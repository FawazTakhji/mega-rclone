{
  "nbformat": 4,
  "nbformat_minor": 0,
  "metadata": {
    "colab": {
      "name": "mega+rclone.ipynb",
      "provenance": [],
      "collapsed_sections": [],
      "authorship_tag": "ABX9TyMPPRHXmClWz49eie6XPt5t",
      "include_colab_link": true
    },
    "kernelspec": {
      "name": "python3",
      "display_name": "Python 3"
    }
  },
  "cells": [
    {
      "cell_type": "markdown",
      "metadata": {
        "id": "view-in-github",
        "colab_type": "text"
      },
      "source": [
        "<a href=\"https://colab.research.google.com/github/FawazTakhji/mega-rclone/blob/master/mega%2Brclone.ipynb\" target=\"_parent\"><img src=\"https://colab.research.google.com/assets/colab-badge.svg\" alt=\"Open In Colab\"/></a>"
      ]
    },
    {
      "cell_type": "markdown",
      "metadata": {
        "id": "o2oHUC39E4iq",
        "colab_type": "text"
      },
      "source": [
        "# ![alt text](https://img.icons8.com/material-rounded/32/000000/box-settings-1.png) Requirements setup"
      ]
    },
    {
      "cell_type": "code",
      "metadata": {
        "id": "B3YVheC0E8Ha",
        "colab_type": "code",
        "cellView": "form",
        "colab": {}
      },
      "source": [
        "#@title ⬅️ Run this cell to start the requirements setup\n",
        "from google.colab import output\n",
        "%cd ../\n",
        "!curl https://rclone.org/install.sh | sudo bash\n",
        "output.clear()\n",
        "!wget https://mega.nz/linux/MEGAsync/xUbuntu_18.04/amd64/megacmd_1.3.0-4.1_amd64.deb\n",
        "output.clear()\n",
        "!sudo dpkg -i megacmd_1.3.0-4.1_amd64.deb\n",
        "output.clear()\n",
        "!sudo apt-get install -f\n",
        "output.clear()\n",
        "!echo Setup complete"
      ],
      "execution_count": null,
      "outputs": []
    },
    {
      "cell_type": "markdown",
      "metadata": {
        "id": "3ciFbpVtFlCT",
        "colab_type": "text"
      },
      "source": [
        "Mega"
      ]
    },
    {
      "cell_type": "code",
      "metadata": {
        "id": "jCW5TscNFpzE",
        "colab_type": "code",
        "colab": {}
      },
      "source": [
        "!mega-signup email password [--name=\"Fawaz Takhji\"]"
      ],
      "execution_count": null,
      "outputs": []
    },
    {
      "cell_type": "markdown",
      "metadata": {
        "id": "bZaeIHVWF0kS",
        "colab_type": "text"
      },
      "source": [
        "Rclone"
      ]
    },
    {
      "cell_type": "code",
      "metadata": {
        "id": "XCmv5ImnF6sC",
        "colab_type": "code",
        "cellView": "form",
        "colab": {}
      },
      "source": [
        "!#@title ⬅️ Copy rclone.conf to /content then run this cell to install your rclone config and if you dont have a config you can skip this cell\n",
        "%cd /root/.config/\n",
        "output.clear()\n",
        "%mkdir rclone\n",
        "output.clear()\n",
        "%cp /content/rclone.conf /root/.config/rclone\n",
        "output.clear()\n",
        "%cd ../\n",
        "output.clear()\n",
        "%cd ../\n",
        "output.clear()\n",
        "%cd ../\n",
        "output.clear()\n",
        "!echo Config installed successfully"
      ],
      "execution_count": null,
      "outputs": []
    },
    {
      "cell_type": "code",
      "metadata": {
        "id": "f3oTFmHZKgA0",
        "colab_type": "code",
        "colab": {}
      },
      "source": [
        "!rclone copy \"FawzyFlex:/Shows/\" \"\" -v"
      ],
      "execution_count": null,
      "outputs": []
    },
    {
      "cell_type": "code",
      "metadata": {
        "id": "fH22_xSDKj5s",
        "colab_type": "code",
        "colab": {}
      },
      "source": [
        "!rclone copy \"FawzyFlex:/Cartoon Shows/\" \"\" -v"
      ],
      "execution_count": null,
      "outputs": []
    },
    {
      "cell_type": "code",
      "metadata": {
        "id": "2H_DV7H_KmIT",
        "colab_type": "code",
        "colab": {}
      },
      "source": [
        "!rclone copy \"FawzyFlex:/Anime Shows/\" \"\" -v"
      ],
      "execution_count": null,
      "outputs": []
    }
  ]
}